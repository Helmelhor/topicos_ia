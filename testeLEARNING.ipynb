{
 "cells": [
  {
   "cell_type": "code",
   "execution_count": 5,
   "id": "6d1e73d0",
   "metadata": {
    "scrolled": true
   },
   "outputs": [
    {
     "name": "stdout",
     "output_type": "stream",
     "text": [
      "Using cpu device\n",
      "Wrapping the env in a VecTransposeImage.\n",
      "Logging to ./tensorboard_logs_DQN/DQN_5\n"
     ]
    },
    {
     "data": {
      "text/plain": [
       "<stable_baselines3.dqn.dqn.DQN at 0x1890474df88>"
      ]
     },
     "execution_count": 5,
     "metadata": {},
     "output_type": "execute_result"
    }
   ],
   "source": [
    "import gym\n",
    "import gym_super_mario_bros\n",
    "from nes_py.wrappers import JoypadSpace\n",
    "from gym_super_mario_bros.actions import SIMPLE_MOVEMENT\n",
    "from gym.wrappers import GrayScaleObservation, ResizeObservation\n",
    "from stable_baselines3.common.vec_env import DummyVecEnv, VecFrameStack\n",
    "from stable_baselines3.common.env_util import make_vec_env\n",
    "# --- MUDANÇA 1: Importando DQN em vez de PPO ---\n",
    "from stable_baselines3 import DQN\n",
    "from stable_baselines3.common.callbacks import CheckpointCallback\n",
    "\n",
    "# A função para criar o ambiente continua exatamente a mesma\n",
    "def make_env():\n",
    "    env = gym_super_mario_bros.make('SuperMarioBros-v0')\n",
    "    env = ResizeObservation(env, shape=84)\n",
    "    env = GrayScaleObservation(env, keep_dim=True)\n",
    "    env = JoypadSpace(env, SIMPLE_MOVEMENT)\n",
    "    return env\n",
    "\n",
    "# A criação do ambiente em paralelo também continua a mesma\n",
    "vec_env = make_vec_env(make_env, n_envs=4, vec_env_cls=DummyVecEnv)\n",
    "\n",
    "# O empilhamento de frames também continua o mesmo\n",
    "env = VecFrameStack(vec_env, n_stack=4)\n",
    "\n",
    "# O callback para salvar checkpoints também continua o mesmo\n",
    "checkpoint_callback = CheckpointCallback(save_freq=50000, save_path='./train_DQN/', name_prefix='mario_model_dqn')\n",
    "\n",
    "# --- MUDANÇA 2: Instanciando o modelo DQN com seus próprios parâmetros ---\n",
    "# Em vez de PPO, agora usamos DQN.\n",
    "# DQN usa um 'replay buffer' para aprender com experiências passadas.\n",
    "model = DQN(\n",
    "    'CnnPolicy', \n",
    "    env, \n",
    "    verbose=1, \n",
    "    tensorboard_log=\"./tensorboard_logs_DQN/\", # É bom usar uma nova pasta de log\n",
    "    learning_rate=1e-4, # Taxa de aprendizado\n",
    "    buffer_size=100000, # Tamanho do \"replay buffer\" (memória de jogadas)\n",
    "    learning_starts=1000, # Quantos passos aleatórios dar antes de começar a aprender\n",
    "    batch_size=32, # Quantas amostras usar para cada atualização do cérebro\n",
    "    exploration_fraction=0.1, # Fração do treino gasta diminuindo a aleatoriedade\n",
    "    exploration_final_eps=0.01 # Nível mínimo de aleatoriedade no final\n",
    ")\n",
    "\n",
    "# A chamada para iniciar o treinamento é a mesma\n",
    "model.learn(total_timesteps=2000, callback=checkpoint_callback)"
   ]
  },
  {
   "cell_type": "code",
   "execution_count": 12,
   "id": "753998bf",
   "metadata": {},
   "outputs": [],
   "source": [
    "# Importa as bibliotecas necessárias\n",
    "import gym_super_mario_bros\n",
    "from nes_py.wrappers import JoypadSpace\n",
    "from gym_super_mario_bros.actions import SIMPLE_MOVEMENT\n",
    "\n",
    "# Cria o ambiente do Super Mario Bros.\n",
    "# 'SuperMarioBros-v0' geralmente se refere à fase 1-1.\n",
    "env = gym_super_mario_bros.make('SuperMarioBros-v0')\n",
    "# Simplifica os controles para um conjunto de 7 movimentos essenciais.\n",
    "env = JoypadSpace(env, SIMPLE_MOVEMENT)\n",
    "\n",
    "# Loop principal para rodar e visualizar o jogo\n",
    "done = True\n",
    "# O loop rodará por 5000 frames. Aumente este número se quiser assistir por mais tempo.\n",
    "for step in range(5000):\n",
    "    # Se uma \"vida\" acabou (done=True), o ambiente é reiniciado.\n",
    "    if done:\n",
    "        state = env.reset()\n",
    "    \n",
    "    # Pega uma ação aleatória do conjunto de ações possíveis.\n",
    "    # Isso fará o Mario se mover de forma caótica.\n",
    "    action = env.action_space.sample()\n",
    "    \n",
    "    # Executa a ação no ambiente para avançar um frame.\n",
    "    state, reward, done, info = env.step(action)\n",
    "    \n",
    "    # Renderiza a tela do jogo. É esta linha que abre e atualiza a janela gráfica.\n",
    "    env.render()\n",
    "\n",
    "# Fecha a janela e o ambiente ao final do loop.\n",
    "env.close()"
   ]
  },
  {
   "cell_type": "code",
   "execution_count": null,
   "id": "bad1dd94",
   "metadata": {},
   "outputs": [],
   "source": []
  }
 ],
 "metadata": {
  "kernelspec": {
   "display_name": "Python 3 (ipykernel)",
   "language": "python",
   "name": "python3"
  },
  "language_info": {
   "codemirror_mode": {
    "name": "ipython",
    "version": 3
   },
   "file_extension": ".py",
   "mimetype": "text/x-python",
   "name": "python",
   "nbconvert_exporter": "python",
   "pygments_lexer": "ipython3",
   "version": "3.7.16"
  }
 },
 "nbformat": 4,
 "nbformat_minor": 5
}
